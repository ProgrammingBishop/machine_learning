{
 "cells": [
  {
   "cell_type": "code",
   "execution_count": 7,
   "metadata": {},
   "outputs": [],
   "source": [
    "import pandas as pd\n",
    "import json\n",
    "pd.options.display.max_colwidth = 1000"
   ]
  },
  {
   "cell_type": "code",
   "execution_count": 8,
   "metadata": {},
   "outputs": [],
   "source": [
    "data = pd.read_csv( '.\\\\..\\\\..\\\\output\\\\blizzard_statuses_dataframe.csv' )\n",
    "# ast.literal_eval( dict( data )[0][0] )"
   ]
  },
  {
   "cell_type": "code",
   "execution_count": 9,
   "metadata": {},
   "outputs": [
    {
     "data": {
      "text/html": [
       "<div>\n",
       "<style scoped>\n",
       "    .dataframe tbody tr th:only-of-type {\n",
       "        vertical-align: middle;\n",
       "    }\n",
       "\n",
       "    .dataframe tbody tr th {\n",
       "        vertical-align: top;\n",
       "    }\n",
       "\n",
       "    .dataframe thead th {\n",
       "        text-align: right;\n",
       "    }\n",
       "</style>\n",
       "<table border=\"1\" class=\"dataframe\">\n",
       "  <thead>\n",
       "    <tr style=\"text-align: right;\">\n",
       "      <th></th>\n",
       "      <th>created_at</th>\n",
       "      <th>full_text</th>\n",
       "    </tr>\n",
       "  </thead>\n",
       "  <tbody>\n",
       "    <tr>\n",
       "      <th>0</th>\n",
       "      <td>Thu Feb 07 18:50:11 +0000 2019</td>\n",
       "      <td>Last year we were proud to host our first @GirlsWhoCode Summer Immersion Program – and we’re happy to do it again this year! Learn more, including how to apply for the free program, here: https://t.co/9qcuJ5B9Zq https://t.co/U5wti3WqCN</td>\n",
       "    </tr>\n",
       "    <tr>\n",
       "      <th>1</th>\n",
       "      <td>Fri Jan 25 18:04:42 +0000 2019</td>\n",
       "      <td>@BradenWhited @LonelyHotP0cket @PlayHearthstone wow what a good cloud</td>\n",
       "    </tr>\n",
       "  </tbody>\n",
       "</table>\n",
       "</div>"
      ],
      "text/plain": [
       "                       created_at  \\\n",
       "0  Thu Feb 07 18:50:11 +0000 2019   \n",
       "1  Fri Jan 25 18:04:42 +0000 2019   \n",
       "\n",
       "                                                                                                                                                                                                                                     full_text  \n",
       "0  Last year we were proud to host our first @GirlsWhoCode Summer Immersion Program – and we’re happy to do it again this year! Learn more, including how to apply for the free program, here: https://t.co/9qcuJ5B9Zq https://t.co/U5wti3WqCN  \n",
       "1                                                                                                                                                                        @BradenWhited @LonelyHotP0cket @PlayHearthstone wow what a good cloud  "
      ]
     },
     "execution_count": 9,
     "metadata": {},
     "output_type": "execute_result"
    }
   ],
   "source": [
    "data"
   ]
  },
  {
   "cell_type": "code",
   "execution_count": null,
   "metadata": {},
   "outputs": [],
   "source": []
  }
 ],
 "metadata": {
  "kernelspec": {
   "display_name": "Python 3",
   "language": "python",
   "name": "python3"
  },
  "language_info": {
   "codemirror_mode": {
    "name": "ipython",
    "version": 3
   },
   "file_extension": ".py",
   "mimetype": "text/x-python",
   "name": "python",
   "nbconvert_exporter": "python",
   "pygments_lexer": "ipython3",
   "version": "3.6.0"
  }
 },
 "nbformat": 4,
 "nbformat_minor": 2
}
