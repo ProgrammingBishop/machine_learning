{
 "cells": [
  {
   "cell_type": "code",
   "execution_count": 31,
   "metadata": {},
   "outputs": [],
   "source": [
    "import pandas as pd\n",
    "import json\n",
    "import ast"
   ]
  },
  {
   "cell_type": "code",
   "execution_count": 34,
   "metadata": {},
   "outputs": [
    {
     "data": {
      "text/plain": [
       "[23203672,\n",
       " 719324795167309827,\n",
       " 3065618342,\n",
       " 28354416,\n",
       " 1880574811,\n",
       " 2155513160,\n",
       " 532406707,\n",
       " 331908924,\n",
       " 44196397,\n",
       " 18553965,\n",
       " 1171755060,\n",
       " 2806914710,\n",
       " 843588483243540481,\n",
       " 1542453360,\n",
       " 382823424,\n",
       " 50415313,\n",
       " 1048018930785083392,\n",
       " 854062027370835969,\n",
       " 180463340,\n",
       " 15953740,\n",
       " 2420931980,\n",
       " 18334111,\n",
       " 36803580,\n",
       " 185649929,\n",
       " 95654415,\n",
       " 231579149,\n",
       " 2886720444,\n",
       " 158487331,\n",
       " 866642827438153728,\n",
       " 1114707756,\n",
       " 2981067855,\n",
       " 103607439,\n",
       " 800723046021505024,\n",
       " 297047872,\n",
       " 37786155,\n",
       " 59325073,\n",
       " 16712746,\n",
       " 221412285,\n",
       " 18222378,\n",
       " 22940219,\n",
       " 5162861,\n",
       " 7157132,\n",
       " 14922225,\n",
       " 18927441,\n",
       " 24742040,\n",
       " 10671602,\n",
       " 29758446,\n",
       " 913812620,\n",
       " 374186211,\n",
       " 1202317428,\n",
       " 3940734922,\n",
       " 28136539,\n",
       " 451200058,\n",
       " 226542162,\n",
       " 193104350,\n",
       " 94168113,\n",
       " 55001146,\n",
       " 37312877,\n",
       " 232447988]"
      ]
     },
     "execution_count": 34,
     "metadata": {},
     "output_type": "execute_result"
    }
   ],
   "source": [
    "data = pd.read_csv( '.\\\\..\\\\..\\\\output\\\\blizzard_follower_friends.csv' ).transpose()\n",
    "ast.literal_eval( dict( data )[0][0] )"
   ]
  },
  {
   "cell_type": "code",
   "execution_count": null,
   "metadata": {},
   "outputs": [],
   "source": []
  }
 ],
 "metadata": {
  "kernelspec": {
   "display_name": "Python 3",
   "language": "python",
   "name": "python3"
  },
  "language_info": {
   "codemirror_mode": {
    "name": "ipython",
    "version": 3
   },
   "file_extension": ".py",
   "mimetype": "text/x-python",
   "name": "python",
   "nbconvert_exporter": "python",
   "pygments_lexer": "ipython3",
   "version": "3.6.0"
  }
 },
 "nbformat": 4,
 "nbformat_minor": 2
}
